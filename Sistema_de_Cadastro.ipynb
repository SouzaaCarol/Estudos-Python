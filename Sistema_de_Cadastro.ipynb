{
  "nbformat": 4,
  "nbformat_minor": 0,
  "metadata": {
    "colab": {
      "provenance": [],
      "authorship_tag": "ABX9TyNUhP+ZfPi9G3yyJpAj1u2T",
      "include_colab_link": true
    },
    "kernelspec": {
      "name": "python3",
      "display_name": "Python 3"
    },
    "language_info": {
      "name": "python"
    }
  },
  "cells": [
    {
      "cell_type": "markdown",
      "metadata": {
        "id": "view-in-github",
        "colab_type": "text"
      },
      "source": [
        "<a href=\"https://colab.research.google.com/github/SouzaaCarol/Estudos-Python/blob/main/Sistema_de_Cadastro.ipynb\" target=\"_parent\"><img src=\"https://colab.research.google.com/assets/colab-badge.svg\" alt=\"Open In Colab\"/></a>"
      ]
    },
    {
      "cell_type": "markdown",
      "source": [
        "##Sistema de cadastro\n",
        "\n",
        "Funcionalidades\n",
        "\n",
        "-add produtos\n",
        "-remover produtos\n",
        "-listar a disponibilidadedos produtos\n",
        "\n",
        "Ferramentas\n",
        "-Definições de função\n",
        "-condicionais\n",
        "-inputs\n",
        "-tipos de dados\n",
        "-coleção\n",
        "-loop for\n",
        "-menu\n",
        "\n",
        "**Psudocódigo**\n",
        "\n",
        "etapa 2- Criar uma biblioteca por meio inputs de usuario\n",
        "\n",
        "etapa 3-Criar  uma função que verifique a disponibilidade dos livros na biblioteca por meio de inputs de usuario\n",
        "\n",
        "etapa 4- Criar uma função que liste todos os livros da biblioteca\n",
        "\n",
        "etapa 5 - Criar uma função que remova oslivros da biblioteca por meio de inputs de usuario\n",
        "\n",
        "etapa 6-  Criar o  menuno qual, de acordo com o input de usuario ele \"chamará\" uma das funções geradas"
      ],
      "metadata": {
        "id": "7Onp8_MIA-6L"
      }
    },
    {
      "cell_type": "code",
      "source": [
        "#etapa 1\n",
        "\n",
        "biblioteca = []\n",
        "\n",
        "#etapa 2\n",
        "\n",
        "def adicionar_livro():\n",
        "  titulo = input(\"Digite o titulo do livro: \")\n",
        "  autor = input(\"Digite o nome do autor: \")\n",
        "  disponibilidade = input(\"o livro ta disponivel? (sim/nao): \")\n",
        "  livro = {\"titulo\": titulo, \"autor\": autor, \"disponibilidade\": disponibilidade}\n",
        "  biblioteca.append(livro)\n",
        "  print(\"Livro adicionado com sucesso!\")\n",
        "\n",
        "#Etapa 3\n",
        "\n",
        "def verificar_disponibilidade():\n",
        "  titulo = input(\"Digite o titulo do livro: \")\n",
        "  for livro in biblioteca:\n",
        "    if livro[\"titulo\"] == titulo:\n",
        "      if livro[\"disponibilidade\"] == \"sim\":\n",
        "        print(f\"O livro {titulo} está disponivel!\")\n",
        "      else:\n",
        "        print(f\"O livro {titulo} não está disponivel!\")\n",
        "      return\n",
        "  print(f\"O livro {titulo} não foi encontrado na biblioteca.\")\n",
        "\n",
        "#Etapa 4\n",
        "\n",
        "def listar_livros():\n",
        "  print(\"Lista de livros da biblioteca:\")\n",
        "  if not biblioteca:\n",
        "    print(\"A biblioteca está vazia.\")\n",
        "    return\n",
        "  for livro in biblioteca:\n",
        "      print(f\"Titulo: {livro['titulo']}, autor: {livro['autor']}, disponibilidade: {livro['disponibilidade']}\")\n",
        "\n",
        "#Etapa 5\n",
        "\n",
        "def remover_livro():\n",
        "    titulo = input(\"Digite o titulo do livro: \")\n",
        "    for livro in biblioteca:\n",
        "      if livro[\"titulo\"] == titulo:\n",
        "        biblioteca.remove(livro)\n",
        "        print(f\"O livro {titulo} foi removido com sucesso!\")\n",
        "        return\n",
        "    print(f\"O livro {titulo} não foi encontrado na biblioteca.\")\n",
        "\n",
        "#Etapa 6\n",
        "\n",
        "def menu():\n",
        "  while True:\n",
        "    print(\"\\nMenu:\")\n",
        "    print(\"1. Adicionar livro\")\n",
        "    print(\"2. Verificar disponibilidade\")\n",
        "    print(\"3. Listar livros\")\n",
        "    print(\"4. Remover livro\")\n",
        "    print(\"0. Sair\")\n",
        "\n",
        "    #criar a variavél de opção que o usúario irá digitar\n",
        "\n",
        "    opcao = input(\"Escolha uma opção: \")\n",
        "    if opcao == \"1\":\n",
        "      adicionar_livro()\n",
        "    elif opcao == \"2\":\n",
        "      verificar_disponibilidade()\n",
        "    elif opcao == \"3\":\n",
        "      listar_livros()\n",
        "    elif opcao == \"4\":\n",
        "      remover_livro()\n",
        "    elif opcao == \"0\":\n",
        "      print(\"Saindo do programa...\")\n",
        "      break\n",
        "    else:\n",
        "      print(\"Opção inválida. Tente novamente.\")\n",
        "\n",
        "menu()"
      ],
      "metadata": {
        "colab": {
          "base_uri": "https://localhost:8080/"
        },
        "id": "65cepIiaBVsM",
        "outputId": "c5c8c7a1-b1ca-4259-87d7-8fa42e83ec8c"
      },
      "execution_count": null,
      "outputs": [
        {
          "output_type": "stream",
          "name": "stdout",
          "text": [
            "\n",
            "Menu:\n",
            "1. Adicionar livro\n",
            "2. Verificar disponibilidade\n",
            "3. Listar livros\n",
            "4. Remover livro\n",
            "0. Sair\n"
          ]
        }
      ]
    },
    {
      "cell_type": "code",
      "source": [],
      "metadata": {
        "id": "U3Em1smVCX-B"
      },
      "execution_count": null,
      "outputs": []
    }
  ]
}