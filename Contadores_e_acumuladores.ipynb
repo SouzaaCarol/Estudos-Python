{
  "nbformat": 4,
  "nbformat_minor": 0,
  "metadata": {
    "colab": {
      "provenance": [],
      "include_colab_link": true
    },
    "kernelspec": {
      "name": "python3",
      "display_name": "Python 3"
    },
    "language_info": {
      "name": "python"
    }
  },
  "cells": [
    {
      "cell_type": "markdown",
      "metadata": {
        "id": "view-in-github",
        "colab_type": "text"
      },
      "source": [
        "<a href=\"https://colab.research.google.com/github/SouzaaCarol/Estudos-Python/blob/main/Contadores_e_acumuladores.ipynb\" target=\"_parent\"><img src=\"https://colab.research.google.com/assets/colab-badge.svg\" alt=\"Open In Colab\"/></a>"
      ]
    },
    {
      "cell_type": "code",
      "execution_count": 1,
      "metadata": {
        "colab": {
          "base_uri": "https://localhost:8080/"
        },
        "id": "7RB4p1Wy3Yuw",
        "outputId": "0ecd2e74-6c9e-4e0f-b00c-84dea6602acf"
      },
      "outputs": [
        {
          "output_type": "execute_result",
          "data": {
            "text/plain": [
              "{'cor': 'verde', 'pontos': 5}"
            ]
          },
          "metadata": {},
          "execution_count": 1
        }
      ],
      "source": [
        "#Criando o Dicionário\n",
        "\n",
        "sapo = {\"cor\" : \"verde\",\"pontos\" :5}\n",
        "\n",
        "#chamando o dicionário\n",
        "\n",
        "sapo"
      ]
    },
    {
      "cell_type": "code",
      "source": [
        "#usar expressões personalizadas  para acessar valores do dicionário\n",
        "\n",
        "print(\"a cor do sapo é \" + sapo[\"cor\"])"
      ],
      "metadata": {
        "colab": {
          "base_uri": "https://localhost:8080/"
        },
        "id": "4brYR30l4H8n",
        "outputId": "84c4734c-4d73-4b97-e231-949d7c5a03b6"
      },
      "execution_count": 2,
      "outputs": [
        {
          "output_type": "stream",
          "name": "stdout",
          "text": [
            "a cor do sapo é verde\n"
          ]
        }
      ]
    },
    {
      "cell_type": "code",
      "source": [
        "#Add um novo par chave-valor\n",
        "\n",
        "sapo ['x_posicao'] = 0\n",
        "sapo"
      ],
      "metadata": {
        "colab": {
          "base_uri": "https://localhost:8080/"
        },
        "id": "DPdVgRHp4eWN",
        "outputId": "84839338-5c4d-44be-c01f-903fd0f9e25f"
      },
      "execution_count": 3,
      "outputs": [
        {
          "output_type": "execute_result",
          "data": {
            "text/plain": [
              "{'cor': 'verde', 'pontos': 5, 'x_posicao': 0}"
            ]
          },
          "metadata": {},
          "execution_count": 3
        }
      ]
    },
    {
      "cell_type": "code",
      "source": [
        "#Percorrendo os pares chaves-valor  do dicionário\n",
        "\n",
        "numeros_favoritos = {\"João\": 30, \"Ana\" : 7 }\n",
        "\n",
        "for nome, numero  in numeros_favoritos.items():\n",
        "  print(nome + \" prefere o número \" + str(numero))"
      ],
      "metadata": {
        "colab": {
          "base_uri": "https://localhost:8080/"
        },
        "id": "Th_91Kxh459a",
        "outputId": "0344121d-fd68-4cbe-f9c8-c7848200e43b"
      },
      "execution_count": 4,
      "outputs": [
        {
          "output_type": "stream",
          "name": "stdout",
          "text": [
            "João prefere o número 30\n",
            "Ana prefere o número 7\n"
          ]
        }
      ]
    },
    {
      "cell_type": "code",
      "source": [
        "#Percorrendo as chaves --> Keys\n",
        "\n",
        "for nome in numeros_favoritos.keys():\n",
        "  print(nome + \"prefere um número\")"
      ],
      "metadata": {
        "colab": {
          "base_uri": "https://localhost:8080/"
        },
        "id": "rHnYu0kr6Y7-",
        "outputId": "b5d9fb83-44f1-4cad-eeb8-1c5eb602321f"
      },
      "execution_count": 5,
      "outputs": [
        {
          "output_type": "stream",
          "name": "stdout",
          "text": [
            "Joãoprefere um número\n",
            "Anaprefere um número\n"
          ]
        }
      ]
    },
    {
      "cell_type": "markdown",
      "source": [
        "##Dicionario  aninhados"
      ],
      "metadata": {
        "id": "sDSuqgfY7x8R"
      }
    },
    {
      "cell_type": "code",
      "source": [
        "minha_familia = {\n",
        "    \"pessoa 1\" : {\n",
        "        \"nome\" : \"Paulo\",\n",
        "        \"idade\" :  40\n",
        "    },\n",
        "    \"pessoa 2\" : {\n",
        "        \"nome\" : \"Maria\",\n",
        "        \"idade\" : 26\n",
        "    },\n",
        "    \"pessoa 3\" : {\n",
        "        \"nome\" : \"João\",\n",
        "        \"idade\" : 18\n",
        "    }\n",
        "}\n",
        "\n",
        "print(minha_familia)"
      ],
      "metadata": {
        "colab": {
          "base_uri": "https://localhost:8080/"
        },
        "id": "tqefuzP97UWW",
        "outputId": "d0264ac6-acfa-45ec-b8aa-6a82e5311ce0"
      },
      "execution_count": 6,
      "outputs": [
        {
          "output_type": "stream",
          "name": "stdout",
          "text": [
            "{'pessoa 1': {'nome': 'Paulo', 'idade': 40}, 'pessoa 2': {'nome': 'Maria', 'idade': 26}, 'pessoa 3': {'nome': 'João', 'idade': 18}}\n"
          ]
        }
      ]
    },
    {
      "cell_type": "markdown",
      "source": [
        "##Craindo Funções  em python\n",
        "\n",
        "Blocos de código que realizam uma tarefa especifica e podem serr reutilizados em diferentes partes do programa.\n",
        "\n",
        "def nome_funcao(argumento):\n",
        "  acoes"
      ],
      "metadata": {
        "id": "YeZ9qe_D94Pr"
      }
    },
    {
      "cell_type": "code",
      "source": [
        "#Funções simples  (sem argumentos)\n",
        "\n",
        "def saudacao():\n",
        "  print(\"Olá, tudo bem?\")\n",
        "\n",
        "saudacao()\n",
        "\n"
      ],
      "metadata": {
        "colab": {
          "base_uri": "https://localhost:8080/"
        },
        "id": "OHxP5kMp-UKL",
        "outputId": "312497ba-67f0-44d1-8343-b752cd1bb9eb"
      },
      "execution_count": 7,
      "outputs": [
        {
          "output_type": "stream",
          "name": "stdout",
          "text": [
            "Olá, tudo bem?\n"
          ]
        }
      ]
    },
    {
      "cell_type": "code",
      "source": [
        "#Fução com Prametro\n",
        "\n",
        "def saudacao_com_nome(nome):\n",
        "  print(\"Olá \" + nome + \"! Seja bem-vindo\")\n",
        "\n",
        "saudacao_com_nome(\"Carol\")"
      ],
      "metadata": {
        "colab": {
          "base_uri": "https://localhost:8080/"
        },
        "id": "4YY7Sim7-xh6",
        "outputId": "99946c54-fbfb-4190-f46b-a8310533f814"
      },
      "execution_count": 8,
      "outputs": [
        {
          "output_type": "stream",
          "name": "stdout",
          "text": [
            "Olá Carol! Seja bem-vindo\n"
          ]
        }
      ]
    },
    {
      "cell_type": "markdown",
      "source": [
        "Criar função Multiplicar\n",
        "receber dois numeros\n",
        "os multiplica e exibe o resultado\n"
      ],
      "metadata": {
        "id": "nyfzQEBz_5wP"
      }
    },
    {
      "cell_type": "code",
      "source": [
        "def multiplica(num1, num2,):\n",
        "  resultado = num1 * num2\n",
        "  print(\"O resultado da Multiplicação: \",resultado)\n",
        "\n",
        "multiplica(3,5)\n",
        "multiplica(7,8)"
      ],
      "metadata": {
        "colab": {
          "base_uri": "https://localhost:8080/"
        },
        "id": "51wKruwOADvw",
        "outputId": "40dd1147-5428-4d11-c8d1-dae5ee9c935a"
      },
      "execution_count": 9,
      "outputs": [
        {
          "output_type": "stream",
          "name": "stdout",
          "text": [
            "O resultado da Multiplicação:  15\n",
            "O resultado da Multiplicação:  56\n"
          ]
        }
      ]
    },
    {
      "cell_type": "markdown",
      "source": [
        "##Funções com retorno\n",
        "\n",
        "devolvem, retornam um valor --> return\n",
        "\n",
        "só podemos usar a função em uma variavél se ela tiver o return, sem ele não funciona, ela retona none (nada)"
      ],
      "metadata": {
        "id": "boY3WjaiA-wn"
      }
    },
    {
      "cell_type": "code",
      "source": [
        "def quadrado(numero):\n",
        "  return numero * numero\n",
        "\n",
        "resultado = quadrado(5)\n",
        "print(\"o resultado de 5 é: \", resultado)\n"
      ],
      "metadata": {
        "colab": {
          "base_uri": "https://localhost:8080/"
        },
        "id": "QPtc8HyoB8Qx",
        "outputId": "725668d5-c0ff-45ad-f6e8-7cf8ebe84575"
      },
      "execution_count": 10,
      "outputs": [
        {
          "output_type": "stream",
          "name": "stdout",
          "text": [
            "o resultado de 5 é:  25\n"
          ]
        }
      ]
    },
    {
      "cell_type": "code",
      "source": [
        "def soma (a, b):\n",
        "  return a + b\n",
        "\n",
        "resultado =  soma(3,5)\n",
        "print(resultado)"
      ],
      "metadata": {
        "colab": {
          "base_uri": "https://localhost:8080/"
        },
        "id": "IC92BhPDCP0w",
        "outputId": "26efbbf9-2e2f-4065-a4e6-90d48aa52e6b"
      },
      "execution_count": 11,
      "outputs": [
        {
          "output_type": "stream",
          "name": "stdout",
          "text": [
            "8\n"
          ]
        }
      ]
    },
    {
      "cell_type": "code",
      "source": [
        "def imprime_soma(a,b):\n",
        "  print(a + b)\n",
        "\n",
        "resultado = imprime_soma(3,5)\n",
        "print(resultado)"
      ],
      "metadata": {
        "colab": {
          "base_uri": "https://localhost:8080/"
        },
        "id": "qkAcMR1mC9in",
        "outputId": "c46b05d4-67ff-4c72-c952-e60795b7f12e"
      },
      "execution_count": 12,
      "outputs": [
        {
          "output_type": "stream",
          "name": "stdout",
          "text": [
            "8\n",
            "None\n"
          ]
        }
      ]
    },
    {
      "cell_type": "markdown",
      "source": [
        "Funções com multiplos retornos"
      ],
      "metadata": {
        "id": "DZaF5N666JRm"
      }
    },
    {
      "cell_type": "code",
      "source": [
        "# Função que retorna o quociente e o resto da divisão\n",
        "\n",
        "def dividir(dividendo, divisor):\n",
        "  quociente = dividendo // divisor #Divisão inteira\n",
        "  resto = dividendo % divisor #resto da divisão\n",
        "  return quociente, resto\n",
        "\n",
        "  #Armazenando os valores retornados em duas variavies\n",
        "  q,r = dividir(10,3)\n",
        "  print(\"Quociente: \", q)\n",
        "  print(\"Resto: \", r)\n"
      ],
      "metadata": {
        "id": "836Y0l4J6BgP"
      },
      "execution_count": 13,
      "outputs": []
    },
    {
      "cell_type": "markdown",
      "source": [
        "## Exemplo 2\n",
        "\n",
        "Criar uma função chamada calcular_media, que receba trê notas, calcula a média aritimética e retorne a média >Exiba o Resultado"
      ],
      "metadata": {
        "id": "MSRbImAo8HrV"
      }
    },
    {
      "cell_type": "code",
      "source": [
        "def calcula_media(nota1, nota2, nota3):\n",
        "  media = (nota1 + nota2 + nota3) / 3\n",
        "  return media\n",
        "\n",
        "# Chamado a função e armazenamento o resultado\n",
        "media_aluno = calcula_media(8.5, 7.0, 9.0)\n",
        "print(\"A média do aluno é:\", media_aluno)"
      ],
      "metadata": {
        "colab": {
          "base_uri": "https://localhost:8080/"
        },
        "id": "Xmuzi3HC8Hbl",
        "outputId": "7e6dc734-1bbe-45ef-9b6e-60e458d05f45"
      },
      "execution_count": 14,
      "outputs": [
        {
          "output_type": "stream",
          "name": "stdout",
          "text": [
            "A média do aluno é: 8.166666666666666\n"
          ]
        }
      ]
    },
    {
      "cell_type": "code",
      "source": [
        "def saudacao(nome=\"Visitante\"):\n",
        "  print(f\"Olá, {nome}! Seja bem-vindo(a)!\")\n",
        "\n"
      ],
      "metadata": {
        "id": "K1cbM_bD8FEO"
      },
      "execution_count": 15,
      "outputs": []
    },
    {
      "cell_type": "code",
      "source": [
        "saudacao(\"Carol\")\n",
        "saudacao()"
      ],
      "metadata": {
        "colab": {
          "base_uri": "https://localhost:8080/"
        },
        "id": "Lqef5DA4_gxj",
        "outputId": "bad83a53-c291-4e98-b743-1b9f85e62152"
      },
      "execution_count": 16,
      "outputs": [
        {
          "output_type": "stream",
          "name": "stdout",
          "text": [
            "Olá, Carol! Seja bem-vindo(a)!\n",
            "Olá, Visitante! Seja bem-vindo(a)!\n"
          ]
        }
      ]
    },
    {
      "cell_type": "code",
      "source": [
        "saudacao()"
      ],
      "metadata": {
        "colab": {
          "base_uri": "https://localhost:8080/"
        },
        "id": "bdYho9XF_xuH",
        "outputId": "c50994c1-07d6-432e-db50-1b9d7717d3ae"
      },
      "execution_count": 17,
      "outputs": [
        {
          "output_type": "stream",
          "name": "stdout",
          "text": [
            "Olá, Visitante! Seja bem-vindo(a)!\n"
          ]
        }
      ]
    },
    {
      "cell_type": "code",
      "source": [
        "def calcular_preco_final(preco, desconto=0.10):\n",
        "  preco_final = preco * (1 - desconto)\n",
        "  return preco_final"
      ],
      "metadata": {
        "id": "7iu5_vP9_2-u"
      },
      "execution_count": 18,
      "outputs": []
    },
    {
      "cell_type": "code",
      "source": [
        "preco = 100\n",
        "print(calcular_preco_final(preco))\n",
        "\n",
        "print(calcular_preco_final(preco, 0.20))"
      ],
      "metadata": {
        "colab": {
          "base_uri": "https://localhost:8080/"
        },
        "id": "BN-riRIKAHwZ",
        "outputId": "5927b1d5-1141-43b4-d0e6-5f61d400983a"
      },
      "execution_count": 19,
      "outputs": [
        {
          "output_type": "stream",
          "name": "stdout",
          "text": [
            "90.0\n",
            "80.0\n"
          ]
        }
      ]
    },
    {
      "cell_type": "markdown",
      "source": [
        "## Exemplo 3\n",
        "\n",
        "Criar uma função que calcula o valor final de uma compra, considerando o preço, a quantidade de itens comprados e o imposto.Crie um valor padrão para a quantidade de itens.Crie um valor padrão para a quantidade de itens(1 itens ) e para o imposto."
      ],
      "metadata": {
        "id": "v4n12DC_AhK9"
      }
    },
    {
      "cell_type": "code",
      "source": [
        "def calcula_valor_final(preco,quntidade= 1 ,imposto=0.10):\n",
        "  valor_final = preco * quntidade\n",
        "  total_com_imposto = total + (total * imposto)\n",
        "  return total_com_imposto\n",
        "\n",
        "  print(calcula_valor_final(100))\n"
      ],
      "metadata": {
        "id": "oZ3SoLhRDA3f"
      },
      "execution_count": 20,
      "outputs": []
    },
    {
      "cell_type": "markdown",
      "source": [
        "# Acumuladores e Contadores\n",
        "\n",
        "Acumulador\n",
        "Variavel utilizando  para somar valores ao longo das interações em uma estrutura de repetição.Seria como o SUM, a soma.\n",
        "\n",
        "Contador\n",
        "Variavel usada paea contar número de vezes que uma  condição é atendida durante as iterações. Seria o Count"
      ],
      "metadata": {
        "id": "CVhC5PfmEgsU"
      }
    },
    {
      "cell_type": "code",
      "source": [
        "# contador simples\n",
        "\n",
        "#valor incial  do contador é 0\n",
        "contador = 0;\n",
        "\n",
        "#contar os números no intervalo de 1 a 10\n",
        "for i in range(1,11):\n",
        "  contador = contador + 1\n",
        "  print(contador)"
      ],
      "metadata": {
        "colab": {
          "base_uri": "https://localhost:8080/"
        },
        "id": "_QWNiWqFEfl1",
        "outputId": "0f9358ae-992e-4536-c154-a974e1e3266d"
      },
      "execution_count": 21,
      "outputs": [
        {
          "output_type": "stream",
          "name": "stdout",
          "text": [
            "1\n",
            "2\n",
            "3\n",
            "4\n",
            "5\n",
            "6\n",
            "7\n",
            "8\n",
            "9\n",
            "10\n"
          ]
        }
      ]
    },
    {
      "cell_type": "code",
      "source": [
        "#acumulador simples\n",
        "\n",
        "#valor inicial = 0\n",
        "\n",
        "soma = 0\n",
        "\n",
        "#para cada item (i) no intervalo de 1 a 5 quero somar os valores deles.\n",
        "\n",
        "for i in range (1,6):\n",
        "  soma += i\n",
        "  print(soma)\n",
        "\n",
        "\n"
      ],
      "metadata": {
        "colab": {
          "base_uri": "https://localhost:8080/"
        },
        "id": "KOOkhDHBGSpc",
        "outputId": "4c1cab5c-8198-4862-fbcb-9212f0385d7d"
      },
      "execution_count": 22,
      "outputs": [
        {
          "output_type": "stream",
          "name": "stdout",
          "text": [
            "1\n",
            "3\n",
            "6\n",
            "10\n",
            "15\n"
          ]
        }
      ]
    },
    {
      "cell_type": "code",
      "source": [
        "# Contador com condições\n",
        "#Contador os números pares no intervalo de 1 a 10\n",
        "\n",
        "#Número par : REsto da divisão po 2 é 0 (divisível por 2 )\n",
        "\n",
        "contador = 0\n",
        "\n",
        "for i in range(1,11):\n",
        "  if i % 2 == 0:\n",
        "    contador += 1\n",
        "    print(contador)"
      ],
      "metadata": {
        "colab": {
          "base_uri": "https://localhost:8080/"
        },
        "id": "Pl5Rij7lHHHM",
        "outputId": "17f1c84f-798a-43e1-f2d8-7c7e06aee273"
      },
      "execution_count": 23,
      "outputs": [
        {
          "output_type": "stream",
          "name": "stdout",
          "text": [
            "1\n",
            "2\n",
            "3\n",
            "4\n",
            "5\n"
          ]
        }
      ]
    },
    {
      "cell_type": "code",
      "source": [
        "#Acumulador com condições\n",
        "\n",
        "soma_impares =0\n",
        "\n",
        "#Somar os ímpares no Intervalo de 1 a 10\n",
        "for x in range(1,11):\n",
        "  if i % 2 != 0:\n",
        "    soma_impares += i\n",
        "    print(soma_impares)"
      ],
      "metadata": {
        "id": "OViom5l8AYs1"
      },
      "execution_count": 26,
      "outputs": []
    },
    {
      "cell_type": "code",
      "source": [
        "# Contador com usuario\n",
        "\n",
        "limite = int(input(\"Digite o limite: \"))\n",
        "\n",
        "contador = 0"
      ],
      "metadata": {
        "id": "evOy9tzeCDLL"
      },
      "execution_count": null,
      "outputs": []
    }
  ]
}