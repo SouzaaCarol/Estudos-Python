{
  "nbformat": 4,
  "nbformat_minor": 0,
  "metadata": {
    "colab": {
      "provenance": [],
      "authorship_tag": "ABX9TyPg5oRsLP+eCkyYsYBdwDHY",
      "include_colab_link": true
    },
    "kernelspec": {
      "name": "python3",
      "display_name": "Python 3"
    },
    "language_info": {
      "name": "python"
    }
  },
  "cells": [
    {
      "cell_type": "markdown",
      "metadata": {
        "id": "view-in-github",
        "colab_type": "text"
      },
      "source": [
        "<a href=\"https://colab.research.google.com/github/SouzaaCarol/Estudos-Python/blob/main/Lista%26tuplas.ipynb\" target=\"_parent\"><img src=\"https://colab.research.google.com/assets/colab-badge.svg\" alt=\"Open In Colab\"/></a>"
      ]
    },
    {
      "cell_type": "markdown",
      "source": [
        "#introdução\n",
        "\n",
        "Listas e tuplas\n",
        "\n",
        "Lista : armazena uma serie de itens em uma ordem especifica acessa os itens utilizando um inidce ou dentro de um loop.\n",
        "\n",
        "comando é List - Ordem importa. não admite duplicados. Mútavel usamos []\n",
        "\n",
        "Tupla - lista imutavél. Ordem é importante, não pode ser modificada, usamos os ()\n",
        "\n",
        "conjuto - a ordem não importa, admite duplicado, mútavel. Set{}\n",
        "\n",
        "tornar o conjuto imutavel --> frozenset ({1,2,3})"
      ],
      "metadata": {
        "id": "2bVMpQuCwce-"
      }
    },
    {
      "cell_type": "code",
      "source": [
        "# Criar uma lista\n",
        "\n",
        "departamentos = [\"Jurídico\", \"Financeiro\", \"Vendas\"]\n",
        "\n",
        "#Chamando lista\n",
        "departamentos\n",
        "\n",
        "#Obter o primeiro item da lista\n",
        "primeiro_departamento = departamentos[0]\n",
        "\n",
        "primeiro_departamento\n",
        "\n",
        "#obter último departamento\n",
        "ultimo_departamento = departamentos[-1]\n",
        "\n",
        "ultimo_departamento\n"
      ],
      "metadata": {
        "id": "8p1bOpylxJJM"
      },
      "execution_count": null,
      "outputs": []
    },
    {
      "cell_type": "code",
      "source": [
        "#percorrendo uma lista\n",
        "for departamento in departamentos:\n",
        "  print(departamento)\n"
      ],
      "metadata": {
        "id": "Cjczk4J_3fQ1"
      },
      "execution_count": null,
      "outputs": []
    },
    {
      "cell_type": "code",
      "source": [
        "#add itens a lista\n",
        "\n",
        "#criando lista em branco\n",
        "\n",
        "departamentos = []\n",
        "\n",
        "#para add --> Append\n",
        "#POO --> Objeto.Ação --> Lista.Append\n",
        "#duplicar lista shift + alt + seta pra baixo\n",
        "\n",
        "departamentos.append(\"Marketing\")\n",
        "departamentos.append(\"Gerência\")\n",
        "departamentos.append(\"Presidência\")\n",
        "\n",
        "#chamar lista\n",
        "departamentos\n",
        "\n"
      ],
      "metadata": {
        "id": "l_m0YZLnALbP"
      },
      "execution_count": null,
      "outputs": []
    },
    {
      "cell_type": "markdown",
      "source": [
        "## Pseudocódigo\n",
        "\n",
        "1. Criar uma lista vazia\n",
        "2. Quero contar os Números de 1 a 10\n",
        "3. Quero elevar esses números ao quadrado\n",
        "4. quero preencher a lista com os quadrados dos números de 1 a 10\n",
        "]"
      ],
      "metadata": {
        "id": "LPlH9qnlBmzc"
      }
    },
    {
      "cell_type": "code",
      "source": [
        "quadrados = []\n",
        "\n",
        "for x in range(1,11):\n",
        "  quadrados.append(x**2)\n",
        "\n",
        "quadrados\n"
      ],
      "metadata": {
        "id": "DJGhxAl_CfMB"
      },
      "execution_count": null,
      "outputs": []
    },
    {
      "cell_type": "code",
      "source": [
        "#compressão de lista --> Escrita abreviada\n",
        "\n",
        "quadrados = [x**2 for x in range(1, 11)]\n",
        "\n",
        "quadrados\n"
      ],
      "metadata": {
        "id": "hmX5TxSjD7Z8"
      },
      "execution_count": null,
      "outputs": []
    },
    {
      "cell_type": "code",
      "source": [
        "# fatiando uma lista\n",
        "\n",
        "nomes = [\"João\", \"Maria\",\"Carol\", \"Wendel\"]\n",
        "\n",
        "#Acessar os dois primeiros nomes da lista\n",
        "\n",
        "nomes_dividir = nomes[:2]\n",
        "\n",
        "nomes_dividir\n",
        "\n",
        "#Acessar os dois últimos nomes da lista\n",
        "\n",
        "nomes_dividir = nomes[-2:]\n",
        "\n",
        "nomes_dividir"
      ],
      "metadata": {
        "id": "YZfRntgBFbZN"
      },
      "execution_count": null,
      "outputs": []
    },
    {
      "cell_type": "code",
      "source": [
        "# Acessando os itens do meio da lista\n",
        "# ou usar a função list(range(1,11)) colocar uma variavel e por essa formula que vai tranformar o intervalo em lista\n",
        "lista = [1,2,3,4,5,6,7,8,9,10]\n",
        "\n",
        "meio_lista = lista[2:8]\n",
        "\n",
        "meio_lista"
      ],
      "metadata": {
        "id": "z7VUsbKnHJEi"
      },
      "execution_count": null,
      "outputs": []
    },
    {
      "cell_type": "code",
      "source": [
        "#add itens a uma lista pelo operador +\n",
        "\n",
        "#lista vazia\n",
        "minha_lista =[]\n",
        "\n",
        "#lista preenchida\n",
        "\n",
        "itens = [\"item1\", \"item2\", \"item3\"]\n",
        "\n",
        "#add itens da segunda na primeira\n",
        "minha_lista += itens\n",
        "\n",
        "print(minha_lista)"
      ],
      "metadata": {
        "id": "s3oz6T1hvNZM"
      },
      "execution_count": null,
      "outputs": []
    },
    {
      "cell_type": "code",
      "source": [
        "#add itens na lista pelo extend\n",
        "\n",
        "#lista vazia\n",
        "\n",
        "minha_lista = []\n",
        "\n",
        "#criar uma tupla (uma tupla não podemos mudar o conteudo)\n",
        "\n",
        "itens = (\"item1\", \"item2\", \"item3\")\n",
        "\n",
        "#add itens da tupla na lista\n",
        "\n",
        "minha_lista.extend(itens)\n",
        "\n",
        "print(minha_lista)"
      ],
      "metadata": {
        "id": "o9TwSVqNw1jY"
      },
      "execution_count": null,
      "outputs": []
    },
    {
      "cell_type": "markdown",
      "metadata": {
        "id": "db43096a"
      },
      "source": [
        "semelhantes as listas, mas não podem ser modificadas."
      ]
    },
    {
      "cell_type": "code",
      "source": [
        "#atribuindo valores a tupla\n",
        "\n",
        "#criando uma tupla\n",
        "\n",
        "tupla = (\"Maçã\", \"Banana\", \"Laranja\")\n",
        "\n",
        "fruta1, fruta2, fruta3 = tupla\n",
        "\n",
        "print(fruta1)\n",
        "print(fruta2)\n",
        "print(fruta3)"
      ],
      "metadata": {
        "id": "f7d2ZHNPzlpg"
      },
      "execution_count": null,
      "outputs": []
    },
    {
      "cell_type": "code",
      "source": [
        "#acessando os elementos da tupla\n",
        "tupla =(\"Maçã\", \"Banana\", \"Laranja\")\n",
        "\n",
        "print(tupla[0])\n",
        "print(tupla[1])\n",
        "print(tupla[2])"
      ],
      "metadata": {
        "id": "GNRtKcuM47wG"
      },
      "execution_count": null,
      "outputs": []
    },
    {
      "cell_type": "code",
      "source": [
        "#concatenando tupla\n",
        "\n",
        "tupla=(1,2,3)\n",
        "tupla2=(4,5,6)\n",
        "\n",
        "tupla_concatenada = tupla + tupla2\n",
        "\n",
        "print(tupla_concatenada)"
      ],
      "metadata": {
        "id": "n30jtlsn5JRp"
      },
      "execution_count": null,
      "outputs": []
    },
    {
      "cell_type": "code",
      "source": [
        "#Descompactando Tuplas\n",
        "\n",
        "tupla = (\"João\", 26 , \"Brasil\")\n",
        "\n",
        "nome, idade, pais = tupla\n",
        "\n",
        "print(nome)\n",
        "print(idade)\n",
        "print(pais)"
      ],
      "metadata": {
        "id": "e4cqA_Rh5bUG"
      },
      "execution_count": null,
      "outputs": []
    },
    {
      "cell_type": "markdown",
      "source": [
        "#Valores aleatorios\n",
        "\n",
        "Não existe a função radom()_ sozinha no python.Temos que acessar a biblioteca, o modulo  radom"
      ],
      "metadata": {
        "id": "438ADG9P6AYU"
      }
    },
    {
      "cell_type": "code",
      "source": [
        "#importar o módulo radom\n",
        "\n",
        "import random\n",
        "\n",
        "#criando um número aleatorio\n",
        "\n",
        "numero_aleatorio = random.random()\n",
        "\n",
        "print(numero_aleatorio)\n",
        "\n",
        "#número inteiro aleatorio\n",
        "\n",
        "numero_inteiro_aleatorio = random.randint(1,100)\n",
        "\n",
        "print(numero_inteiro_aleatorio)\n",
        "\n",
        "#número flutuante aleatorio\n",
        "\n",
        "numero_aleatorio_flutuante = random.uniform(1.5,3.5)\n",
        "\n",
        "print(numero_aleatorio_flutuante)"
      ],
      "metadata": {
        "id": "hE8tsTbc5_l9"
      },
      "execution_count": null,
      "outputs": []
    },
    {
      "cell_type": "code",
      "source": [
        "#gerando escolha aleatoria em uma lista\n",
        "\n",
        "lista_opcoes = [\"a\", \"b\", \"c\",\"d\" ,\"e\"]\n",
        "\n",
        "escolha_aleatoria = random.choice(lista_opcoes)\n",
        "\n",
        "print(escolha_aleatoria)"
      ],
      "metadata": {
        "id": "dhBcqXRtHbN9"
      },
      "execution_count": null,
      "outputs": []
    },
    {
      "cell_type": "code",
      "source": [
        "#embaralhando Lista\n",
        "\n",
        "lista_numeros = [1,2,3,4,5,6,7,8,9,10]\n",
        "\n",
        "random.shuffle(lista_numeros)\n",
        "\n",
        "print(lista_numeros)\n",
        "\n",
        "#escolher mais de um numero aleatorio na lista\n",
        "\n",
        "numeros_sorteados = random.sample(lista_numeros, 3)\n",
        "\n",
        "print(numeros_sorteados)"
      ],
      "metadata": {
        "id": "2CO3IU5vI2FK"
      },
      "execution_count": null,
      "outputs": []
    },
    {
      "cell_type": "code",
      "source": [
        "#sortear um numero aleatorio e retirar ele da lista\n",
        "\n",
        "numeros = list(range(1,17))\n",
        "\n",
        "while numeros:\n",
        "  sorteado = random.choice(numeros)\n",
        "  print(f\"Número Sorteado: {sorteado}\")\n",
        "\n",
        "  numeros.remove(sorteado)\n",
        "\n",
        "print(\"todos os numeros foram sorteados\")\n"
      ],
      "metadata": {
        "id": "cCJc3nk5KscJ"
      },
      "execution_count": null,
      "outputs": []
    },
    {
      "cell_type": "code",
      "source": [
        "import random\n",
        "numeros =list((range (1,11)))\n",
        "while numeros:\n",
        "  input(\"Pressione enter para sortear um número\")\n",
        "  sorteado = random.choice(numeros)\n",
        "  print(f\"número sorteado: {sorteado}\")\n",
        "  numeros.remove(sorteado)\n",
        "\n",
        "print(f\"os números restantes{numeros}\")\n",
        "\n",
        "print(f\"todos os números foram sorteados\")\n"
      ],
      "metadata": {
        "id": "5jBe4cxyLFfa"
      },
      "execution_count": null,
      "outputs": []
    }
  ]
}