{
  "nbformat": 4,
  "nbformat_minor": 0,
  "metadata": {
    "colab": {
      "provenance": [],
      "authorship_tag": "ABX9TyPpyyjvljePb4XKTj+cjAgK",
      "include_colab_link": true
    },
    "kernelspec": {
      "name": "python3",
      "display_name": "Python 3"
    },
    "language_info": {
      "name": "python"
    }
  },
  "cells": [
    {
      "cell_type": "markdown",
      "metadata": {
        "id": "view-in-github",
        "colab_type": "text"
      },
      "source": [
        "<a href=\"https://colab.research.google.com/github/SouzaaCarol/Estudos-Python/blob/main/Lista%26tuplas.ipynb\" target=\"_parent\"><img src=\"https://colab.research.google.com/assets/colab-badge.svg\" alt=\"Open In Colab\"/></a>"
      ]
    },
    {
      "cell_type": "markdown",
      "source": [
        "#introdução\n",
        "\n",
        "Listas e tuplas\n",
        "\n",
        "Lista : armazena uma serie de itens em uma ordem especifica acessa os itens utilizando um inidce ou dentro de um loop.\n",
        "\n",
        "comando é List - Ordem importa. não admite duplicados. Mútavel usamos []\n",
        "\n",
        "Tupla - lista imutavél. Ordem é importante, não pode ser modificada, usamos os ()\n",
        "\n",
        "conjuto - a ordem não importa, admite duplicado, mútavel. Set{}\n",
        "\n",
        "tornar o conjuto imutavel --> frozenset ({1,2,3})"
      ],
      "metadata": {
        "id": "2bVMpQuCwce-"
      }
    },
    {
      "cell_type": "code",
      "source": [
        "# Criar uma lista\n",
        "\n",
        "departamentos = [\"Jurídico\", \"Financeiro\", \"Vendas\"]\n",
        "\n",
        "#Chamando lista\n",
        "departamentos\n",
        "\n",
        "#Obter o primeiro item da lista\n",
        "primeiro_departamento = departamentos[0]\n",
        "\n",
        "primeiro_departamento\n",
        "\n",
        "#obter último departamento\n",
        "ultimo_departamento = departamentos[-1]\n",
        "\n",
        "ultimo_departamento\n"
      ],
      "metadata": {
        "id": "8p1bOpylxJJM",
        "colab": {
          "base_uri": "https://localhost:8080/",
          "height": 36
        },
        "outputId": "5708fb28-11e1-4c2b-934e-16749110d592"
      },
      "execution_count": 1,
      "outputs": [
        {
          "output_type": "execute_result",
          "data": {
            "text/plain": [
              "'Vendas'"
            ],
            "application/vnd.google.colaboratory.intrinsic+json": {
              "type": "string"
            }
          },
          "metadata": {},
          "execution_count": 1
        }
      ]
    },
    {
      "cell_type": "code",
      "source": [
        "#percorrendo uma lista\n",
        "for departamento in departamentos:\n",
        "  print(departamento)\n"
      ],
      "metadata": {
        "id": "Cjczk4J_3fQ1",
        "colab": {
          "base_uri": "https://localhost:8080/"
        },
        "outputId": "9c061be8-dc1a-466f-db4a-a624efbfd51c"
      },
      "execution_count": 2,
      "outputs": [
        {
          "output_type": "stream",
          "name": "stdout",
          "text": [
            "Jurídico\n",
            "Financeiro\n",
            "Vendas\n"
          ]
        }
      ]
    },
    {
      "cell_type": "code",
      "source": [
        "#add itens a lista\n",
        "\n",
        "#criando lista em branco\n",
        "\n",
        "departamentos = []\n",
        "\n",
        "#para add --> Append\n",
        "#POO --> Objeto.Ação --> Lista.Append\n",
        "#duplicar lista shift + alt + seta pra baixo\n",
        "\n",
        "departamentos.append(\"Marketing\")\n",
        "departamentos.append(\"Gerência\")\n",
        "departamentos.append(\"Presidência\")\n",
        "\n",
        "#chamar lista\n",
        "departamentos\n",
        "\n"
      ],
      "metadata": {
        "id": "l_m0YZLnALbP",
        "colab": {
          "base_uri": "https://localhost:8080/"
        },
        "outputId": "8855fe3b-d576-4828-a8c6-f7a0e649628c"
      },
      "execution_count": 3,
      "outputs": [
        {
          "output_type": "execute_result",
          "data": {
            "text/plain": [
              "['Marketing', 'Gerência', 'Presidência']"
            ]
          },
          "metadata": {},
          "execution_count": 3
        }
      ]
    },
    {
      "cell_type": "markdown",
      "source": [
        "## Pseudocódigo\n",
        "\n",
        "1. Criar uma lista vazia\n",
        "2. Quero contar os Números de 1 a 10\n",
        "3. Quero elevar esses números ao quadrado\n",
        "4. quero preencher a lista com os quadrados dos números de 1 a 10\n",
        "]"
      ],
      "metadata": {
        "id": "LPlH9qnlBmzc"
      }
    },
    {
      "cell_type": "code",
      "source": [
        "quadrados = []\n",
        "\n",
        "for x in range(1,11):\n",
        "  quadrados.append(x**2)\n",
        "\n",
        "quadrados\n"
      ],
      "metadata": {
        "id": "DJGhxAl_CfMB",
        "colab": {
          "base_uri": "https://localhost:8080/"
        },
        "outputId": "6e929477-2f8a-4338-cdff-b7d142093c30"
      },
      "execution_count": 4,
      "outputs": [
        {
          "output_type": "execute_result",
          "data": {
            "text/plain": [
              "[1, 4, 9, 16, 25, 36, 49, 64, 81, 100]"
            ]
          },
          "metadata": {},
          "execution_count": 4
        }
      ]
    },
    {
      "cell_type": "code",
      "source": [
        "#compressão de lista --> Escrita abreviada\n",
        "\n",
        "quadrados = [x**2 for x in range(1, 11)]\n",
        "\n",
        "quadrados\n"
      ],
      "metadata": {
        "id": "hmX5TxSjD7Z8",
        "colab": {
          "base_uri": "https://localhost:8080/"
        },
        "outputId": "bc41e4d5-6a7c-4af8-d07f-65b9e0761aca"
      },
      "execution_count": 5,
      "outputs": [
        {
          "output_type": "execute_result",
          "data": {
            "text/plain": [
              "[1, 4, 9, 16, 25, 36, 49, 64, 81, 100]"
            ]
          },
          "metadata": {},
          "execution_count": 5
        }
      ]
    },
    {
      "cell_type": "code",
      "source": [
        "# fatiando uma lista\n",
        "\n",
        "nomes = [\"João\", \"Maria\",\"Carol\", \"Wendel\"]\n",
        "\n",
        "#Acessar os dois primeiros nomes da lista\n",
        "\n",
        "nomes_dividir = nomes[:2]\n",
        "\n",
        "nomes_dividir\n",
        "\n",
        "#Acessar os dois últimos nomes da lista\n",
        "\n",
        "nomes_dividir = nomes[-2:]\n",
        "\n",
        "nomes_dividir"
      ],
      "metadata": {
        "id": "YZfRntgBFbZN",
        "colab": {
          "base_uri": "https://localhost:8080/"
        },
        "outputId": "3ba10150-50a2-4f7a-9a8f-1182eca49e12"
      },
      "execution_count": 6,
      "outputs": [
        {
          "output_type": "execute_result",
          "data": {
            "text/plain": [
              "['Carol', 'Wendel']"
            ]
          },
          "metadata": {},
          "execution_count": 6
        }
      ]
    },
    {
      "cell_type": "code",
      "source": [
        "# Acessando os itens do meio da lista\n",
        "# ou usar a função list(range(1,11)) colocar uma variavel e por essa formula que vai tranformar o intervalo em lista\n",
        "lista = [1,2,3,4,5,6,7,8,9,10]\n",
        "\n",
        "meio_lista = lista[2:8]\n",
        "\n",
        "meio_lista"
      ],
      "metadata": {
        "id": "z7VUsbKnHJEi",
        "colab": {
          "base_uri": "https://localhost:8080/"
        },
        "outputId": "4012268d-99f9-4e2c-b816-3c3465dcf610"
      },
      "execution_count": 7,
      "outputs": [
        {
          "output_type": "execute_result",
          "data": {
            "text/plain": [
              "[3, 4, 5, 6, 7, 8]"
            ]
          },
          "metadata": {},
          "execution_count": 7
        }
      ]
    },
    {
      "cell_type": "code",
      "source": [
        "#add itens a uma lista pelo operador +\n",
        "\n",
        "#lista vazia\n",
        "minha_lista =[]\n",
        "\n",
        "#lista preenchida\n",
        "\n",
        "itens = [\"item1\", \"item2\", \"item3\"]\n",
        "\n",
        "#add itens da segunda na primeira\n",
        "minha_lista += itens\n",
        "\n",
        "print(minha_lista)"
      ],
      "metadata": {
        "id": "s3oz6T1hvNZM",
        "colab": {
          "base_uri": "https://localhost:8080/"
        },
        "outputId": "79414352-785d-477c-b507-0f7fc77f2b46"
      },
      "execution_count": 8,
      "outputs": [
        {
          "output_type": "stream",
          "name": "stdout",
          "text": [
            "['item1', 'item2', 'item3']\n"
          ]
        }
      ]
    },
    {
      "cell_type": "code",
      "source": [
        "#add itens na lista pelo extend\n",
        "\n",
        "#lista vazia\n",
        "\n",
        "minha_lista = []\n",
        "\n",
        "#criar uma tupla (uma tupla não podemos mudar o conteudo)\n",
        "\n",
        "itens = (\"item1\", \"item2\", \"item3\")\n",
        "\n",
        "#add itens da tupla na lista\n",
        "\n",
        "minha_lista.extend(itens)\n",
        "\n",
        "print(minha_lista)"
      ],
      "metadata": {
        "id": "o9TwSVqNw1jY",
        "colab": {
          "base_uri": "https://localhost:8080/"
        },
        "outputId": "81e2d7a5-4775-4eba-85a1-cf398372eb3e"
      },
      "execution_count": 9,
      "outputs": [
        {
          "output_type": "stream",
          "name": "stdout",
          "text": [
            "['item1', 'item2', 'item3']\n"
          ]
        }
      ]
    },
    {
      "cell_type": "code",
      "source": [
        "semelhantes as listas, mas não podem ser modificadas."
      ],
      "metadata": {
        "id": "BGCO4yNqy5ik",
        "colab": {
          "base_uri": "https://localhost:8080/",
          "height": 106
        },
        "outputId": "1633f20f-6d7b-4cab-c488-b52c58ecb47e"
      },
      "execution_count": 10,
      "outputs": [
        {
          "output_type": "error",
          "ename": "SyntaxError",
          "evalue": "invalid syntax (ipython-input-4285658986.py, line 1)",
          "traceback": [
            "\u001b[0;36m  File \u001b[0;32m\"/tmp/ipython-input-4285658986.py\"\u001b[0;36m, line \u001b[0;32m1\u001b[0m\n\u001b[0;31m    semelhantes as listas, mas não podem ser modificadas.\u001b[0m\n\u001b[0m                ^\u001b[0m\n\u001b[0;31mSyntaxError\u001b[0m\u001b[0;31m:\u001b[0m invalid syntax\n"
          ]
        }
      ]
    },
    {
      "cell_type": "markdown",
      "metadata": {
        "id": "db43096a"
      },
      "source": [
        "semelhantes as listas, mas não podem ser modificadas."
      ]
    },
    {
      "cell_type": "code",
      "source": [
        "#atribuindo valores a tupla\n",
        "\n",
        "#criando uma tupla\n",
        "\n",
        "tupla = (\"Maçã\", \"Banana\", \"Laranja\")\n",
        "\n",
        "fruta1, fruta2, fruta3 = tupla\n",
        "\n",
        "print(fruta1)\n",
        "print(fruta2)\n",
        "print(fruta3)"
      ],
      "metadata": {
        "id": "f7d2ZHNPzlpg",
        "colab": {
          "base_uri": "https://localhost:8080/"
        },
        "outputId": "7491997f-994e-477d-b867-a1e4cee84ecf"
      },
      "execution_count": 11,
      "outputs": [
        {
          "output_type": "stream",
          "name": "stdout",
          "text": [
            "Maçã\n",
            "Banana\n",
            "Laranja\n"
          ]
        }
      ]
    },
    {
      "cell_type": "code",
      "source": [
        "#acessando os elementos da tupla\n",
        "tupla =(\"Maçã\", \"Banana\", \"Laranja\")\n",
        "\n",
        "print(tupla[0])\n",
        "print(tupla[1])\n",
        "print(tupla[2])"
      ],
      "metadata": {
        "id": "GNRtKcuM47wG",
        "colab": {
          "base_uri": "https://localhost:8080/"
        },
        "outputId": "1c37f262-3bb6-4c51-d61d-0b9ed2542e91"
      },
      "execution_count": 12,
      "outputs": [
        {
          "output_type": "stream",
          "name": "stdout",
          "text": [
            "Maçã\n",
            "Banana\n",
            "Laranja\n"
          ]
        }
      ]
    },
    {
      "cell_type": "code",
      "source": [
        "#concatenando tupla\n",
        "\n",
        "tupla=(1,2,3)\n",
        "tupla2=(4,5,6)\n",
        "\n",
        "tupla_concatenada = tupla + tupla2\n",
        "\n",
        "print(tupla_concatenada)"
      ],
      "metadata": {
        "id": "n30jtlsn5JRp",
        "colab": {
          "base_uri": "https://localhost:8080/"
        },
        "outputId": "1d81ad10-27c6-4071-b226-e9e49960a6ca"
      },
      "execution_count": 13,
      "outputs": [
        {
          "output_type": "stream",
          "name": "stdout",
          "text": [
            "(1, 2, 3, 4, 5, 6)\n"
          ]
        }
      ]
    },
    {
      "cell_type": "code",
      "source": [
        "#Descompactando Tuplas\n",
        "\n",
        "tupla = (\"João\", 26 , \"Brasil\")\n",
        "\n",
        "nome, idade, pais = tupla\n",
        "\n",
        "print(nome)\n",
        "print(idade)\n",
        "print(pais)"
      ],
      "metadata": {
        "id": "e4cqA_Rh5bUG",
        "colab": {
          "base_uri": "https://localhost:8080/"
        },
        "outputId": "a15efb16-27b3-4c29-85e8-eae04dafe386"
      },
      "execution_count": 14,
      "outputs": [
        {
          "output_type": "stream",
          "name": "stdout",
          "text": [
            "João\n",
            "26\n",
            "Brasil\n"
          ]
        }
      ]
    },
    {
      "cell_type": "markdown",
      "source": [
        "#Valores aleatorios\n",
        "\n",
        "Não existe a função radom()_ sozinha no python.Temos que acessar a biblioteca, o modulo  radom"
      ],
      "metadata": {
        "id": "438ADG9P6AYU"
      }
    },
    {
      "cell_type": "code",
      "source": [
        "#importar o módulo radom\n",
        "\n",
        "import random\n",
        "\n",
        "#criando um número aleatorio\n",
        "\n",
        "numero_aleatorio = random.random()\n",
        "\n",
        "print(numero_aleatorio)\n",
        "\n",
        "#número inteiro aleatorio\n",
        "\n",
        "numero_inteiro_aleatorio = random.randint(1,100)\n",
        "\n",
        "print(numero_inteiro_aleatorio)\n",
        "\n",
        "#número flutuante aleatorio\n",
        "\n",
        "numero_aleatorio_flutuante = random.uniform(1.5,3.5)\n",
        "\n",
        "print(numero_aleatorio_flutuante)"
      ],
      "metadata": {
        "id": "hE8tsTbc5_l9",
        "colab": {
          "base_uri": "https://localhost:8080/"
        },
        "outputId": "9a6caf47-ef6c-4635-db39-311f179b3e90"
      },
      "execution_count": 15,
      "outputs": [
        {
          "output_type": "stream",
          "name": "stdout",
          "text": [
            "0.5202448858983729\n",
            "28\n",
            "2.7323381196977605\n"
          ]
        }
      ]
    },
    {
      "cell_type": "code",
      "source": [
        "#gerando escolha aleatoria em uma lista\n",
        "\n",
        "lista_opcoes = [\"a\", \"b\", \"c\",\"d\" ,\"e\"]\n",
        "\n",
        "escolha_aleatoria = random.choice(lista_opcoes)\n",
        "\n",
        "print(escolha_aleatoria)"
      ],
      "metadata": {
        "id": "dhBcqXRtHbN9",
        "colab": {
          "base_uri": "https://localhost:8080/"
        },
        "outputId": "130fdc2b-abed-4361-98ac-7dbf330c3ea3"
      },
      "execution_count": 16,
      "outputs": [
        {
          "output_type": "stream",
          "name": "stdout",
          "text": [
            "c\n"
          ]
        }
      ]
    },
    {
      "cell_type": "code",
      "source": [
        "#embaralhando Lista\n",
        "\n",
        "lista_numeros = [1,2,3,4,5,6,7,8,9,10]\n",
        "\n",
        "random.shuffle(lista_numeros)\n",
        "\n",
        "print(lista_numeros)\n",
        "\n",
        "#escolher mais de um numero aleatorio na lista\n",
        "\n",
        "numeros_sorteados = random.sample(lista_numeros, 3)\n",
        "\n",
        "print(numeros_sorteados)"
      ],
      "metadata": {
        "id": "2CO3IU5vI2FK",
        "colab": {
          "base_uri": "https://localhost:8080/"
        },
        "outputId": "e63ea9b4-ac66-4c59-b8a9-685d9708450b"
      },
      "execution_count": 17,
      "outputs": [
        {
          "output_type": "stream",
          "name": "stdout",
          "text": [
            "[10, 9, 3, 4, 1, 6, 2, 8, 5, 7]\n",
            "[10, 8, 9]\n"
          ]
        }
      ]
    },
    {
      "cell_type": "code",
      "source": [
        "#sortear um numero aleatorio e retirar ele da lista\n",
        "\n",
        "numeros = list(range(1,17))\n",
        "\n",
        "while numeros:\n",
        "  sorteado = random.choice(numeros)\n",
        "  print(f\"Número Sorteado: {sorteado}\")\n",
        "\n",
        "  numeros.remove(sorteado)\n",
        "\n",
        "print(\"todos os numeros foram sorteados\")\n"
      ],
      "metadata": {
        "colab": {
          "base_uri": "https://localhost:8080/"
        },
        "id": "cCJc3nk5KscJ",
        "outputId": "4968a3bc-a40e-430c-f9f8-882fa7637d7b"
      },
      "execution_count": 18,
      "outputs": [
        {
          "output_type": "stream",
          "name": "stdout",
          "text": [
            "Número Sorteado: 12\n",
            "Número Sorteado: 4\n",
            "Número Sorteado: 15\n",
            "Número Sorteado: 2\n",
            "Número Sorteado: 8\n",
            "Número Sorteado: 13\n",
            "Número Sorteado: 7\n",
            "Número Sorteado: 11\n",
            "Número Sorteado: 14\n",
            "Número Sorteado: 5\n",
            "Número Sorteado: 10\n",
            "Número Sorteado: 6\n",
            "Número Sorteado: 9\n",
            "Número Sorteado: 1\n",
            "Número Sorteado: 3\n",
            "Número Sorteado: 16\n",
            "todos os numeros foram sorteados\n"
          ]
        }
      ]
    },
    {
      "cell_type": "code",
      "source": [
        "import random\n",
        "numeros =list((range (1,11)))\n",
        "while numeros:\n",
        "  input(\"Pressione enter para sortear um número\")\n",
        "  sorteado = random.choice(numeros)\n",
        "  print(f\"número sorteado: {sorteado}\")\n",
        "  numeros.remove(sorteado)\n",
        "\n",
        "print(f\"os números restantes{numeros}\")\n",
        "\n",
        "print(f\"todos os números foram sorteados\")\n"
      ],
      "metadata": {
        "id": "5jBe4cxyLFfa"
      },
      "execution_count": null,
      "outputs": []
    }
  ]
}